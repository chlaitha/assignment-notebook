{
  "metadata": {
    "kernelspec": {
      "name": "python",
      "display_name": "Python (Pyodide)",
      "language": "python"
    },
    "language_info": {
      "codemirror_mode": {
        "name": "python",
        "version": 3
      },
      "file_extension": ".py",
      "mimetype": "text/x-python",
      "name": "python",
      "nbconvert_exporter": "python",
      "pygments_lexer": "ipython3",
      "version": "3.8"
    }
  },
  "nbformat_minor": 4,
  "nbformat": 4,
  "cells": [
    {
      "cell_type": "markdown",
      "source": "# Data Science Tools and Ecosystem",
      "metadata": {}
    },
    {
      "cell_type": "markdown",
      "source": "**In this notebook, Data Science Tools and Ecosystem are summarized.**",
      "metadata": {}
    },
    {
      "cell_type": "markdown",
      "source": "__Some of the popular languages that Data Scientist use are:__\n1. Python\n2. SQL\n3. R",
      "metadata": {}
    },
    {
      "cell_type": "markdown",
      "source": "__Some of the commonly used libraries used by Data Scientists include:__  \n1. TensorFlow.\n2. SciPy.\n3. Numpy.\n4. Pandas\n5. Pytorch",
      "metadata": {}
    },
    {
      "cell_type": "markdown",
      "source": "__Data Science Tools__\n| Data Science Tools |\n| ------------------ |\n| Jupyter Notebook |\n| RStudio |\n| Apache Spark |",
      "metadata": {}
    },
    {
      "cell_type": "markdown",
      "source": "### Below are a few examples of evaluating arithmetic expressions in Python",
      "metadata": {}
    },
    {
      "cell_type": "code",
      "source": "# This a simple arithmetic expression to multiply then add integers\neval = (3*4)+5\nprint(eval)\nprint(eval==17)",
      "metadata": {
        "trusted": true
      },
      "outputs": [
        {
          "name": "stdout",
          "text": "17\nTrue\n",
          "output_type": "stream"
        }
      ],
      "execution_count": 6
    },
    {
      "cell_type": "code",
      "source": "# This will convert 200 minutes to hours by diving by 60\nminutes = 200\nhours = minutes/60\nhours",
      "metadata": {
        "trusted": true,
        "scrolled": true
      },
      "outputs": [
        {
          "execution_count": 7,
          "output_type": "execute_result",
          "data": {
            "text/plain": "3.3333333333333335"
          },
          "metadata": {}
        }
      ],
      "execution_count": 7
    },
    {
      "cell_type": "markdown",
      "source": "**Objectives**\n- List popular languages for Data Science.\n- Understand how to set up a Jupyter Notebook.\n- Learn basic Python syntax for data science tasks.\n- Explore common libraries used in Data Science, such as Pandas and NumPy.\n- Understand how to visualize data using Matplotlib and Seaborn.",
      "metadata": {}
    },
    {
      "cell_type": "markdown",
      "source": "## Author\nAndrew Laitha",
      "metadata": {}
    }
  ]
}